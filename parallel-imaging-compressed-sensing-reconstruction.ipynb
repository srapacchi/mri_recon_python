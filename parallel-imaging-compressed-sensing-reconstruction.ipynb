{
 "cells": [
  {
   "cell_type": "markdown",
   "metadata": {},
   "source": [
    "# Master TSI Aix-Marseille Université: SIBIOM. UE Modalités émergentes/ TSI en IRM\n",
    "\n",
    "Disclosure: this Jupyter is heavily borrowed from online materials found:\n",
    "\n",
    "https://github.com/mikgroup/sigpy-mri-tutorial\n",
    "\n",
    "\n",
    "Thanks to all scientists sharing their work !\n",
    "\n",
    "Welcome !\n",
    "\n",
    "In this notebook, we will learn to reconstruct MR-Images from k-space with various undersampling:\n",
    "    a/ Partial Fourier\n",
    "    b/ Parallel imaging\n",
    "    c/ Compressed Sensing\n",
    "    \n",
    "The notebook uses SigPy to perform parallel imaging compressed sensing reconstruction. These iterative methods can be difficult to implement from scratch and computationally intensive. We will show how SigPy `App`s provide simple interfaces to run these reconstructions.\n",
    "\n",
    "For a complete list of MRI `App`s, please see: https://sigpy.readthedocs.io/en/latest/mri_app.html"
   ]
  },
  {
   "cell_type": "markdown",
   "metadata": {},
   "source": [
    "# Setup\n",
    "\n",
    "MRI `App`s are separately defined in the mri submodule `sigpy.mri`. So in addition to Numpy and SigPy, we will need to import `sigpy.mri`."
   ]
  },
  {
   "cell_type": "code",
   "execution_count": null,
   "metadata": {},
   "outputs": [],
   "source": [
    "%matplotlib inline\n",
    "import numpy as np\n",
    "import sigpy as sp\n",
    "import sigpy.mri as mr\n",
    "import sigpy.plot as pl\n",
    "import pygrappa\n",
    "\n",
    "import matplotlib.pyplot as plt"
   ]
  },
  {
   "cell_type": "markdown",
   "metadata": {},
   "source": [
    "For this notebook, we will be use an 8-channel brain dataset acquired with a Cartesian sampling. The dataset was retrospectively undersampled by 8 with a Poisson-disk undersampling mask. Let us load the dataset and visualize it:"
   ]
  },
  {
   "cell_type": "code",
   "execution_count": null,
   "metadata": {},
   "outputs": [],
   "source": [
    "ksp = np.load('data/brain_ksp.npy')\n",
    "\n",
    "print('kspace size is: ', ksp.shape, '\\n')\n",
    "\n",
    "pl.ImagePlot(ksp, mode='l', z=0, title='Log magnitude of k-space')"
   ]
  },
  {
   "cell_type": "markdown",
   "metadata": {},
   "source": [
    "Please define the root sum of square operator as \"rss\""
   ]
  },
  {
   "cell_type": "code",
   "execution_count": null,
   "metadata": {},
   "outputs": [],
   "source": [
    "\n",
    "\n",
    "\n"
   ]
  },
  {
   "cell_type": "markdown",
   "metadata": {},
   "source": [
    "Now let's look at the image"
   ]
  },
  {
   "cell_type": "code",
   "execution_count": null,
   "metadata": {},
   "outputs": [],
   "source": [
    " #img_rss = np.sum(np.abs(sp.ifft(ksp, axes=(-1, -2)))**2, axis=0)**0.5\n",
    "img_rss = rss(sp.ifft(ksp, axes=(-1, -2)))\n",
    "\n",
    "pl.ImagePlot(img_rss, title='Root-sum-of-squares image fully sampled')"
   ]
  },
  {
   "cell_type": "markdown",
   "metadata": {},
   "source": [
    "# Adding noise to the k-space\n",
    "\n",
    "Add a typical MRI-noise to the k-space. !! Recall MRI data are complex-valued  !!*\n",
    "\n",
    "Note: you can skip this step first, go to the end of the notebook and come back to add noise and redo it all"
   ]
  },
  {
   "cell_type": "code",
   "execution_count": null,
   "metadata": {},
   "outputs": [],
   "source": [
    "# define noise characteristics\n",
    "mu, sigma = 0, 15e10# mean and standard deviation\n",
    "\n",
    "# create a matrix of noise\n",
    "\n",
    "# add the complex noise to kspace\n",
    "\n",
    "# look at the noisy image :\n",
    "pl.ImagePlot(rss(sp.ifft(noisyksp,axes=(-1,-2))), title='Magnitude of noisy image')"
   ]
  },
  {
   "cell_type": "markdown",
   "metadata": {},
   "source": [
    "# Partial Fourier\n",
    "\n",
    " Let's try Partial Fourier undersampling & reconstruction using projection onto convex spaces (POCS) seen in class"
   ]
  },
  {
   "cell_type": "code",
   "execution_count": null,
   "metadata": {},
   "outputs": [],
   "source": [
    "# Define the sampling mask (0 for missing data, 1 for sampled data)\n",
    "mask = np.ones_like(ksp)\n",
    "kspsz = ksp.shape\n",
    "\n",
    "mask[:, np.arange(int(5/8*kspsz[1]),kspsz[1])] = 0  # Example: Simulate partial Fourier sampling\n",
    "\n",
    "# Define the k-space data with missing values\n",
    "usksp = ksp * mask\n",
    "\n",
    "# look at the kspace\n",
    "pl.ImagePlot(rss(usksp), mode='l', title='Log magnitude of undersampled k-space')\n",
    "\n",
    "# look at the image now:\n",
    "pl.ImagePlot(rss(sp.ifft(usksp,axes=(-1,-2))), title='Magnitude of partial Fourier image')"
   ]
  },
  {
   "cell_type": "markdown",
   "metadata": {},
   "source": [
    "Define the center of kspace for calibration of parallel imaging "
   ]
  },
  {
   "cell_type": "code",
   "execution_count": null,
   "metadata": {},
   "outputs": [],
   "source": [
    "maskflip = np.flip(mask,axis=1)\n",
    "\n",
    "pl.ImagePlot(maskflip*mask)"
   ]
  },
  {
   "cell_type": "markdown",
   "metadata": {},
   "source": [
    "# POCS\n",
    "\n",
    "Define a projection onto convex space (POCS) iterative algorithm that includes these steps:\n",
    "\n",
    "    a/ Computes and save the image phase from symmetrically sampled low-frequency\n",
    "    b/ Initiate the reconstruction with a 1st image (zero-filled) \n",
    "And iteratively:\n",
    "\n",
    "    a/ Fourier transform estimated image to k-space \n",
    "    b/ Restore sampled data (fidelity)\n",
    "    c/ Estimate the magnitude image\n",
    "    d/ Combine the magnitude image with the phase image"
   ]
  },
  {
   "cell_type": "code",
   "execution_count": null,
   "metadata": {},
   "outputs": [],
   "source": [
    "\n",
    "# Parameters for POCS reconstruction\n",
    "num_iterations = 100\n",
    "\n",
    "\n",
    "# Function to perform iterative POCS reconstruction\n",
    "def iterative_pocs(kspace, mask, num_iterations=100 ):\n",
    "   \n",
    "    ## WRITE THE ALGORITHM HERE\n",
    "    \n",
    "    return recon\n",
    "\n",
    "\n",
    "# Perform iterative POCS reconstruction\n",
    "recon_result = iterative_pocs(usksp, mask)"
   ]
  },
  {
   "cell_type": "code",
   "execution_count": null,
   "metadata": {},
   "outputs": [],
   "source": [
    "# look at it\n",
    "pl.ImagePlot(rss(sp.ifft(usksp,axes=(-1,-2))), title='Magnitude of partial Fourier image')\n",
    "\n",
    "# look at it\n",
    "pl.ImagePlot(rss(recon_result), title='Magnitude of POCS-recon partial Fourier image')"
   ]
  },
  {
   "cell_type": "markdown",
   "metadata": {},
   "source": [
    "Clearly the zero-filled reconstruction is not good! POCS is noisier but with sharper details"
   ]
  },
  {
   "cell_type": "markdown",
   "metadata": {},
   "source": [
    "## Parallel imaging"
   ]
  },
  {
   "cell_type": "markdown",
   "metadata": {},
   "source": [
    "In the following, we will perform parallel imaging compressed sensing reconstruction using Sigpy. We will first use ESPIRiT to estimate the sensitivity maps from the calibration region, then perform SENSE reconstruction, GRAPPA, L1 wavelet regularized reconstruction, and total variation regularized reconstruction."
   ]
  },
  {
   "cell_type": "code",
   "execution_count": null,
   "metadata": {},
   "outputs": [],
   "source": [
    "# let's skip one line out of 3 but keep the center of kspace (20 lines)\n",
    "\n",
    "\n",
    "usksp = mask*ksp\n",
    "\n",
    "print(usksp.shape)\n",
    "\n",
    "pl.ImagePlot(usksp, mode='l', z=0, title='Log magnitude of uundersampled k-space')\n",
    "\n",
    "# look at the image\n",
    "pl.ImagePlot(rss(sp.ifft(usksp,axes=(-1,-2))), title='Magnitude of partial Fourier image')"
   ]
  },
  {
   "cell_type": "markdown",
   "metadata": {},
   "source": [
    "To perform parallel imaging reconstruction, we will use the ESPIRiT method to estimate the sensitivity maps. To do this, we can use the [EspiritCalib](https://sigpy.readthedocs.io/en/latest/generated/sigpy.mri.app.EspiritCalib.html#sigpy.mri.app.EspiritCalib) App. \n",
    "\n",
    "To run an App, you simply do `app.run()`. You should be able to see a progress bar showing the `App`'s progress. \n",
    "\n",
    "Note that all MRI `App`s can run on GPU by specifying the option `device`. And of course, you will first need to have a GPU and install `cupy`."
   ]
  },
  {
   "cell_type": "code",
   "execution_count": null,
   "metadata": {},
   "outputs": [],
   "source": [
    "mps = mr.app.EspiritCalib(usksp).run()\n",
    "\n",
    "pl.ImagePlot(mps, z=0, title='Sensitivity Maps Estimated by ESPIRiT')"
   ]
  },
  {
   "cell_type": "markdown",
   "metadata": {},
   "source": [
    "## SENSE Recon\n",
    "\n",
    "With the sensitivity maps ready, we can now run a SENSE reconstruction using the [SenseRecon](https://sigpy.readthedocs.io/en/latest/generated/sigpy.mri.app.SenseRecon.html#sigpy.mri.app.SenseRecon) `App`. We will use an l2 regularization of 0.01 based on trial-and-error with this dataset. Feel free to change it!\n",
    "\n",
    "Again, we can run the reconstruction on GPU if we specify the `device` option."
   ]
  },
  {
   "cell_type": "code",
   "execution_count": null,
   "metadata": {},
   "outputs": [],
   "source": [
    "lamda = 0.001\n",
    "img_sense = mr.app.SenseRecon(usksp, mps, lamda=lamda).run()\n",
    "\n",
    "pl.ImagePlot(img_sense, title='SENSE Reconstruction')"
   ]
  },
  {
   "cell_type": "markdown",
   "metadata": {},
   "source": [
    "## GRAPPA Recon\n",
    "\n",
    "The parallel imaging reconstruction can be also performed in k-space using GRAPPA [Pygrappa](https://github.com/mckib2/pygrappa/tree/main/pygrappa)."
   ]
  },
  {
   "cell_type": "code",
   "execution_count": null,
   "metadata": {},
   "outputs": [],
   "source": [
    "ncoils, sx, sy  = usksp.shape[:] \n",
    "print(sx,' ',sy,' ', ncoils)\n",
    "\n",
    "ctrx,ctry, pd = int(sx/2), int(sy/2), 10 # center 20 lines are ACS\n",
    "calib = usksp[:,ctrx-2*pd:ctrx+2*pd,ctry-pd:ctry+pd].copy() # call copy()!\n",
    "\n",
    "# coil_axis=0 needs to be specified \n",
    "# alternatives are : grappa, cgrappa, igrappa, vcgrappa\n",
    "res = pygrappa.cgrappa(np.cdouble(usksp), np.cdouble(calib), kernel_size=(4,4), coil_axis=0)\n",
    "# res = pygrappa.igrappa(usksp, calib, kernel_size=(5,5), coil_axis=0)\n",
    "\n",
    "# look at the kspace & image\n",
    "pl.ImagePlot(rss(res),mode='l', title='Magnitude of GRAPPA kspace')\n",
    "pl.ImagePlot(rss(sp.ifft(res,axes=(-1,-2))), title='Magnitude of GRAPPA image')"
   ]
  },
  {
   "cell_type": "markdown",
   "metadata": {},
   "source": [
    "## L1 Wavelet Regularized Reconstruction\n",
    "\n",
    "Similarly, we can perform an l1-wavelet regularized reconstruction using [L1WaveletRecon](https://sigpy.readthedocs.io/en/latest/generated/sigpy.mri.app.L1WaveletRecon.html#sigpy.mri.app.L1WaveletRecon)."
   ]
  },
  {
   "cell_type": "code",
   "execution_count": null,
   "metadata": {},
   "outputs": [],
   "source": [
    "lamda = 0.005\n",
    "img_l1wav = mr.app.L1WaveletRecon(usksp, mps, lamda).run()\n",
    "\n",
    "pl.ImagePlot(img_l1wav, title='L1 Wavelet Regularized Reconstruction')\n",
    "\n"
   ]
  },
  {
   "cell_type": "markdown",
   "metadata": {},
   "source": [
    "# Total Variation Recon\n",
    "\n",
    "And we can do total variation regularized reconstruction with [TotalVariationRecon](https://sigpy.readthedocs.io/en/latest/generated/sigpy.mri.app.TotalVariationRecon.html#sigpy.mri.app.TotalVariationRecon)."
   ]
  },
  {
   "cell_type": "code",
   "execution_count": null,
   "metadata": {},
   "outputs": [],
   "source": [
    "lamda = 0.05\n",
    "img_tv = mr.app.TotalVariationRecon(usksp, mps, lamda).run()\n",
    "\n",
    "pl.ImagePlot(img_tv, title='Total Variation Regularized Reconstruction')"
   ]
  },
  {
   "cell_type": "markdown",
   "metadata": {},
   "source": [
    "And this is how you can do parallel imaging compressed sensing reconstruction with SigPy! We haven't gone through non-Cartesian datasets, but non-Cartesian support can be enabled by passing k-space coordinates to the `coord` option.\n"
   ]
  }
 ],
 "metadata": {
  "kernelspec": {
   "display_name": "Python 3",
   "language": "python",
   "name": "python3"
  },
  "language_info": {
   "codemirror_mode": {
    "name": "ipython",
    "version": 3
   },
   "file_extension": ".py",
   "mimetype": "text/x-python",
   "name": "python",
   "nbconvert_exporter": "python",
   "pygments_lexer": "ipython3",
   "version": "3.9.16"
  }
 },
 "nbformat": 4,
 "nbformat_minor": 2
}
